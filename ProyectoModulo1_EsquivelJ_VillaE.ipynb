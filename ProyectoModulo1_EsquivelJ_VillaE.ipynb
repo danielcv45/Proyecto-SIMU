{
 "cells": [
  {
   "cell_type": "markdown",
   "metadata": {},
   "source": [
    "<img style=\"float: right; margin: 0px 0px 15px 15px;\" src=\"http://rentalstore.tracsa.com.mx/img/familias/excavadoras-listado.png\" width=\"300px\" height=\"100px\" />\n",
    "\n",
    "\n",
    "# PROYECTO.\n",
    "## OPTIMIZACIÓN DE MAQUINARIA.\n",
    "### PROYECTO DE MOVIMIENTO DE TIERRAS.\n",
    "\n",
    " + FRANCISCO JAVIER DIAZ ESQUIVEL IC727603\n",
    " + ERIK DANIEL COTA VILLA IC727872"
   ]
  },
  {
   "cell_type": "markdown",
   "metadata": {},
   "source": [
    "### OBJETIVO:\n",
    "\n",
    "\n",
    "#### OBJETIVO GENERAL:\n",
    "\n",
    "Determinar qué combinación de maquinaria será la óptima para excavar cierta cantidad volumétrica al menor costo posible.\n",
    "\n",
    "#### OBJETIVOS ESPECÍFICOS:\n",
    "+ Propondremos un modelo que pueda ser repetitivo, concreto, evaluable y que se pueda verificar su utilidad. \n",
    "+ Resolucion por programacion lineal. \n",
    "+ De acuero a los precios, obtendremos que tipo de maquina condrendrá al contratista aumentar.\n",
    "+ Indicaremos cual es el costo por horario para que los camiones sean rentables. \n",
    "+ Obtención de maquinaria optima para el movimiento de tierras.\n",
    "\n",
    "*Limitado a la maquinaria bajo disponibilidad del contratatado.* "
   ]
  },
  {
   "cell_type": "markdown",
   "metadata": {},
   "source": [
    "### Modelo que representa el problema.\n",
    "En este caso poseemos cinco máquinas con la capacidad de realizar trabajos de excavación. Las maquinas no tienen los mismos rendimientos y por contratos previos, su disponibilidad es limitada. Deseamos determinar la distribución y combinación de máquinas que nos permitan excavar **$500m^3$** de material en una semana y minimizando el costo. \n",
    "\n",
    "En la tabla se representan los costos, capacidades y las velocidades de operación que tienen los diferentes tipos de máquinas.\n",
    "\n",
    "\n",
    "**Equipo**|**Capacidad (m$^3$)**|**Costo($/h)**|**Disponibilidad(h/día)**|**Tiempo de ciclo(min)**\n",
    ":----|----|----|----|----\n",
    "**Cargador frontal**|  1.5|175.00|6.0|4.50\n",
    "**Excavadora hidráulica**|  2|400.00|6.0|1.00\n",
    "**Retroexcavadora A**|1.2|275.00|6.0|1.00\n",
    "**Retroexcavadora B**|  0.8|220.00|8.0|1.00\n",
    "**Grúa con almeja**|  1.2|470.00|5.5|2.25\n"
   ]
  },
  {
   "cell_type": "markdown",
   "metadata": {},
   "source": [
    "**¿De qué manera se deben combinar las maquinas a fin de que los gastos sean mínimos?**\n",
    "#### Planteamiento. \n",
    "\n",
    "Definimos las variables de decisión:\n",
    "\n",
    "Siendo $x_!$: el tiempo de operación de la máquina \n",
    "\n",
    "Definimos tambien las maquinas: \n",
    "\n",
    "- $x_1$: Cargador frontal\n",
    "- $x_2$: Excavadora hidráulica\n",
    "- $x_3$: Retroexcavadora A\n",
    "- $x_4$: Retroexcavadora B\n",
    "- $x_5$: Grúa con almeja\n"
   ]
  },
  {
   "cell_type": "code",
   "execution_count": null,
   "metadata": {},
   "outputs": [],
   "source": []
  }
 ],
 "metadata": {
  "kernelspec": {
   "display_name": "Python 3",
   "language": "python",
   "name": "python3"
  },
  "language_info": {
   "codemirror_mode": {
    "name": "ipython",
    "version": 3
   },
   "file_extension": ".py",
   "mimetype": "text/x-python",
   "name": "python",
   "nbconvert_exporter": "python",
   "pygments_lexer": "ipython3",
   "version": "3.8.3"
  }
 },
 "nbformat": 4,
 "nbformat_minor": 4
}
