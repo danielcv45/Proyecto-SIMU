{
 "cells": [
  {
   "cell_type": "markdown",
   "metadata": {},
   "source": [
    "<img style=\"float: right; margin: 0px 0px 15px 15px;\" src=\"http://rentalstore.tracsa.com.mx/img/familias/excavadoras-listado.png\" width=\"300px\" height=\"100px\" />\n",
    "\n",
    "\n",
    "# PROYECTO.\n",
    "## OPTIMIZACIÓN DE MAQUINARIA.\n",
    "### PROYECTO DE MOVIMIENTO DE TIERRAS.\n",
    "\n",
    " + FRANCISCO JAVIER DIAZ ESQUIVEL IC727603\n",
    " + ERIK DANIEL COTA VILLA IC727872"
   ]
  },
  {
   "cell_type": "markdown",
   "metadata": {},
   "source": [
    "### OBJETIVO:\n",
    "\n",
    "\n",
    "#### OBJETIVO GENERAL:\n",
    "\n",
    "Determinar qué combinación de maquinaria será la óptima para excavar cierta cantidad volumétrica al menor costo posible.\n",
    "\n",
    "#### OBJETIVOS ESPECÍFICOS:\n",
    "+ Propondremos un modelo que pueda ser repetitivo, concreto, evaluable y que se pueda verificar su utilidad. \n",
    "+ Resolucion por programacion lineal. \n",
    "+ De acuero a los precios, obtendremos que tipo de maquina condrendrá al contratista aumentar.\n",
    "+ Indicaremos cual es el costo por horario para que los camiones sean rentables. \n",
    "+ Obtención de maquinaria optima para el movimiento de tierras.\n",
    "\n",
    "*Limitado a la maquinaria bajo disponibilidad del contratatado.* "
   ]
  },
  {
   "cell_type": "code",
   "execution_count": null,
   "metadata": {},
   "outputs": [],
   "source": []
  },
  {
   "cell_type": "code",
   "execution_count": null,
   "metadata": {},
   "outputs": [],
   "source": []
  }
 ],
 "metadata": {
  "kernelspec": {
   "display_name": "Python 3",
   "language": "python",
   "name": "python3"
  },
  "language_info": {
   "codemirror_mode": {
    "name": "ipython",
    "version": 3
   },
   "file_extension": ".py",
   "mimetype": "text/x-python",
   "name": "python",
   "nbconvert_exporter": "python",
   "pygments_lexer": "ipython3",
   "version": "3.8.3"
  }
 },
 "nbformat": 4,
 "nbformat_minor": 4
}
