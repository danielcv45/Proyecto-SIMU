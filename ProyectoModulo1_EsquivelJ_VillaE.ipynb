{
 "cells": [
  {
   "cell_type": "markdown",
   "metadata": {},
   "source": [
    "<img style=\"float: right; margin: 0px 0px 15px 15px;\" src=\"http://rentalstore.tracsa.com.mx/img/familias/excavadoras-listado.png\" width=\"300px\" height=\"100px\" />\n",
    "\n",
    "\n",
    "# PROYECTO.\n",
    "## OPTIMIZACIÓN DE MAQUINARIA.\n",
    "### PROYECTO DE MOVIMIENTO DE TIERRAS.\n",
    "\n",
    " + FRANCISCO JAVIER DIAZ ESQUIVEL IC727603\n",
    " + ERIK DANIEL COTA VILLA IC727872"
   ]
  },
  {
   "cell_type": "markdown",
   "metadata": {},
   "source": [
    "### OBJETIVO:\n",
    "\n",
    "\n",
    "#### OBJETIVO GENERAL:\n",
    "\n",
    "Determinar qué combinación de maquinaria será la óptima para excavar cierta cantidad volumétrica al menor costo posible.\n",
    "\n",
    "#### OBJETIVOS ESPECÍFICOS:\n",
    "+ Propondremos un modelo que pueda ser repetitivo, concreto, evaluable y que se pueda verificar su utilidad. \n",
    "+ Resolucion por programacion lineal. \n",
    "+ De acuero a los precios, obtendremos que tipo de maquina condrendrá al contratista aumentar.\n",
    "+ Indicaremos cual es el costo por horario para que los camiones sean rentables. \n",
    "+ Obtención de maquinaria optima para el movimiento de tierras.\n",
    "\n",
    "*Limitado a la maquinaria bajo disponibilidad del contratatado.* "
   ]
  },
  {
   "cell_type": "markdown",
   "metadata": {},
   "source": [
    "### Modelo que representa el problema.\n",
    "En este caso poseemos cinco máquinas con la capacidad de realizar trabajos de excavación. Las maquinas no tienen los mismos rendimientos y por contratos previos, su disponibilidad es limitada. Deseamos determinar la distribución y combinación de máquinas que nos permitan excavar **$500m^3$** de material en una semana y minimizando el costo. \n",
    "\n",
    "En la tabla se representan los costos, capacidades y las velocidades de operación que tienen los diferentes tipos de máquinas.\n",
    "\n",
    "\n",
    "**Equipo**|**Capacidad (m$^3$)**|**Costo($/h)**|**Disponibilidad(h/día)**|**Tiempo de ciclo(min)**\n",
    ":----|----|----|----|----\n",
    "**Cargador frontal**|  1.5|175.00|6.0|4.50\n",
    "**Excavadora hidráulica**|  2|400.00|6.0|1.00\n",
    "**Retroexcavadora A**|1.2|275.00|6.0|1.00\n",
    "**Retroexcavadora B**|  0.8|220.00|8.0|1.00\n",
    "**Grúa con almeja**|  1.2|470.00|5.5|2.25\n"
   ]
  },
  {
   "cell_type": "markdown",
   "metadata": {},
   "source": [
    "**¿De qué manera se deben combinar las maquinas a fin de que los gastos sean mínimos?**\n",
    "#### Planteamiento. \n",
    "\n",
    "Definimos las variables de decisión:\n",
    "\n",
    "Siendo $x_!$: el tiempo de operación de la máquina \n",
    "\n",
    "Definimos tambien las maquinas: \n",
    "\n",
    "- $x_1$: Cargador frontal\n",
    "- $x_2$: Excavadora hidráulica\n",
    "- $x_3$: Retroexcavadora A\n",
    "- $x_4$: Retroexcavadora B\n",
    "- $x_5$: Grúa con almeja\n"
   ]
  },
  {
   "cell_type": "markdown",
   "metadata": {},
   "source": [
    "Se tienen las siguientes ecuaciones:\n",
    "\n",
    "Formulamos la función de costo-objetivo (a minimizar), sumando los costos que requiere la operación de cada equipo: \n",
    "\n",
    "Función a minimizar: \n",
    "$175x_1+400x_2+275x_3+220x_4+470x_5$\n",
    "\n",
    "Para que las restricciones de disponibilidad se ajusten a el tiempo común que le toma a cada máquina realizar el trabajo, debemos multiplicar la disponibilidad que presenta cada máquina por los 5 días de labor disponibles. \n",
    "\n",
    "Restricciones de disponibilidad:\n",
    "* $x_1\\leq30$\n",
    "* $x_2\\leq30$\n",
    "* $x_3\\leq30$\n",
    "* $x_4\\leq40$\n",
    "* $x_5\\leq27.5$\n",
    "\n",
    "Para poder definir la restricción del material total excavado, es necesario encontrar el volumen por hora que puede remover cada máquina, por lo que es necesario desarrollar estas operaciones: \n",
    "\n",
    "+ Para la maquina $x_1$: (1.5$m^3/ciclo$ * 60$min/hr.$) / (4.5$min/ciclo$) = 20$m^3/hr.$\n",
    "+  Para la maquina $x_2$: (2.0$m^3/ciclo$ * 60$min/hr.$) / (1.0$min/ciclo$) = 120$m^3/hr.$\n",
    "+  Para la maquina $x_3$: (1.2$m^3/ciclo$ * 60$min/hr.$) / (1.0$min/ciclo$) = 72$m^3/hr.$\n",
    "+  Para la maquina $x_4$: (0.8$m^3/ciclo$ * 60$min/hr.$) / (1.0$min/ciclo$) = 48$m^3/hr.$\n",
    "+  Para la maquina $x_5$: (1.2$m^3/ciclo$ * 60$min/hr.$) / (2.25$min/ciclo$) = 32$m^3/hr.$\n",
    "\n",
    "Multiplicando por el tiempo respectivo que demora cada operación y sumando el volumen movido por cada máquina, obtenemos la última restricción que se nos presenta.\n",
    "\n",
    "Restricción de material excavado:\n",
    "$20x_1+120x_2+72x_3+48x_4+32x_5=5000$\n"
   ]
  },
  {
   "cell_type": "markdown",
   "metadata": {},
   "source": [
    "#### REPRESENTACIÓN DE RESULTADOS:\n",
    "**Equipo**|**Tiempo que debería trabajar**|**Costo**|\n",
    ":----|----|----|\n",
    "**Excavadora hidráulica**|  30hr.|12,000mx|\n",
    "**Retroexcavadora A**|19.4hr.|5,346mx|\n",
    "**Total**||17,347mx.|"
   ]
  },
  {
   "cell_type": "code",
   "execution_count": 1,
   "metadata": {},
   "outputs": [],
   "source": [
    "import numpy as np\n",
    "import matplotlib.pyplot as plt\n",
    "import scipy.optimize as opt\n",
    "import sympy as sym"
   ]
  },
  {
   "cell_type": "markdown",
   "metadata": {},
   "source": [
    "Con la obtención de la función objetivo, las funciones restrictivas, estas deben ser acomodadas en forma de vectores para solucionar el sistema por medio de las funciones de Jupyter (numpy, scipy.optimize y sympy)."
   ]
  },
  {
   "cell_type": "code",
   "execution_count": 2,
   "metadata": {},
   "outputs": [],
   "source": [
    "c=np.array([175,400,275,220,470])\n",
    "A=np.array([[1,0,0,0,0],[0,1,0,0,0],[0,0,1,0,0],[0,0,0,1,0],[0,0,0,0,1],[-20,-120,-72,-48,-32]])\n",
    "b=np.array([30,30,30,40,27.5,-5000])"
   ]
  },
  {
   "cell_type": "markdown",
   "metadata": {},
   "source": [
    " Obteniendo un vector que represente la combinación requerida de máquinaria y qué costo tendra la realización del proyecto que se quiere realizar."
   ]
  },
  {
   "cell_type": "code",
   "execution_count": 3,
   "metadata": {},
   "outputs": [
    {
     "data": {
      "text/plain": [
       "     con: array([], dtype=float64)\n",
       "     fun: 17347.22222222222\n",
       " message: 'Optimization terminated successfully.'\n",
       "     nit: 12\n",
       "   slack: array([3.00000000e+01, 7.10542736e-15, 1.05555556e+01, 4.00000000e+01,\n",
       "       2.75000000e+01, 0.00000000e+00])\n",
       "  status: 0\n",
       " success: True\n",
       "       x: array([ 0.        , 30.        , 19.44444444,  0.        ,  0.        ])"
      ]
     },
     "execution_count": 3,
     "metadata": {},
     "output_type": "execute_result"
    }
   ],
   "source": [
    "sol=opt.linprog(c,A,b, method=\"simplex\")\n",
    "sol"
   ]
  },
  {
   "cell_type": "markdown",
   "metadata": {},
   "source": [
    "Esta información la podemos representar de la siguiente manera:\n",
    "\n",
    "El vector obtenido: [0,30,19.4,0,0]\n",
    "\n",
    "Los resultados nos dicen que la combinación adecuada es 30 horas con la excavadora hidráulica y 19.4 horas con retroexcavadora A \n",
    "\n",
    "El costo minimo posible para el movimiento de 5,000 $m^3$ será de $17,347 pesos. "
   ]
  },
  {
   "cell_type": "markdown",
   "metadata": {},
   "source": [
    "### CONCLUSIÓN\n",
    "\n",
    "Los resultados obtenidos son realistas, correctos y nos demuestran que diversas situaciones que se viven en el ámbito profesional, pueden ser resueltas con mayor exactitud, veracidad, repetible y que pueden ajustarse a los diferentes tipos de proyectos que se nos presenten.\n",
    "\n",
    "Es interesante que el apoyo de jupyter y sus funciones nos permiten realizar presupuestos y mejor aún reducir los costos, ya que, en el sector de la ingeniería civil al manejarse grandes cantidades de dinero para la realización de proyectos, se deja de un lado gastos que se pudieron haber evitado o administrado mejor por no poder contar herramientas tan sencillas como la utilizada en este proyecto. \n",
    "\n",
    "Nosotros como futuros ingenieros tenemos que adaptar estas ayudas que se nos proporcionan a nuestra vida profesional, el manejo de estas herramientas nos permitirán ser profesionales más preparados que los demás. \n",
    "\n",
    "El buscar la solución a la respuesta fue intrigante y un poco tedioso, pero la satisfacción de obtener el proceso correcto, es aún mayor.\n"
   ]
  },
  {
   "cell_type": "markdown",
   "metadata": {},
   "source": [
    "### BIBLIOGRAFÍA\n",
    "\n",
    "Pacheco, B. (2012). $Ejercicios$ $dirigidos$ $y$ $problemas$ $resueltos$ $de$ $teoría$ $general$ $de$ $sistemas$ $aplicada$ $a$ $la$ $Ingeniería$ $Civil$. septiembre 28, 2020, de UNAM Sitio web: http://www.ptolomeo.unam.mx:8080/xmlui/bitstream/handle/132.248.52.100/567/A4.pdf?sequence=4\n",
    "\n",
    "\n",
    "Da Silva, M. (2010). $Generador$ $de$ $presentaciones$ $multimedia$. septiembre 29, 2020, de Slideshare Sitio web: https://es.slideshare.net/MeireComputacion/power-point-pautas-para-una-buen-trabajo"
   ]
  },
  {
   "cell_type": "markdown",
   "metadata": {},
   "source": [
    "__Link de GitHub:__ https://github.com/danielcv45/UINTENTO"
   ]
  },
  {
   "cell_type": "code",
   "execution_count": null,
   "metadata": {},
   "outputs": [],
   "source": []
  }
 ],
 "metadata": {
  "kernelspec": {
   "display_name": "Python 3",
   "language": "python",
   "name": "python3"
  },
  "language_info": {
   "codemirror_mode": {
    "name": "ipython",
    "version": 3
   },
   "file_extension": ".py",
   "mimetype": "text/x-python",
   "name": "python",
   "nbconvert_exporter": "python",
   "pygments_lexer": "ipython3",
   "version": "3.8.3"
  }
 },
 "nbformat": 4,
 "nbformat_minor": 4
}
